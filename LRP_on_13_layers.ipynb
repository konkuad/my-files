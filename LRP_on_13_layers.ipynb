{
  "nbformat": 4,
  "nbformat_minor": 0,
  "metadata": {
    "colab": {
      "name": "LRP on 13-layers",
      "provenance": [],
      "collapsed_sections": [],
      "mount_file_id": "1ATLBG9bnBUs2m0_7TXCHRZiPl8iI8X4b",
      "authorship_tag": "ABX9TyMOpvLy7VTsSaA29Rmb7oyc",
      "include_colab_link": true
    },
    "kernelspec": {
      "name": "python3",
      "display_name": "Python 3"
    },
    "accelerator": "GPU"
  },
  "cells": [
    {
      "cell_type": "markdown",
      "metadata": {
        "id": "view-in-github",
        "colab_type": "text"
      },
      "source": [
        "<a href=\"https://colab.research.google.com/github/konkuad/my-files/blob/master/LRP_on_13_layers.ipynb\" target=\"_parent\"><img src=\"https://colab.research.google.com/assets/colab-badge.svg\" alt=\"Open In Colab\"/></a>"
      ]
    },
    {
      "cell_type": "code",
      "metadata": {
        "id": "ptZKPTSu1cMV",
        "colab_type": "code",
        "colab": {}
      },
      "source": [
        "import tensorflow as tf\n",
        "import numpy as np\n",
        "import matplotlib.pyplot as plt\n",
        "from sklearn.model_selection import train_test_split"
      ],
      "execution_count": null,
      "outputs": []
    },
    {
      "cell_type": "code",
      "metadata": {
        "id": "qpujuTQ313m9",
        "colab_type": "code",
        "colab": {}
      },
      "source": [
        "data = np.load(\"/content/drive/My Drive/bonn/data.npy\")\n",
        "label = np.load(\"/content/drive/My Drive/bonn/label.npy\")\n",
        "from tensorflow.python.keras.models import load_model\n",
        "model = load_model(\"/content/drive/My Drive/bonn/13_layer_cnn.h5\")"
      ],
      "execution_count": null,
      "outputs": []
    },
    {
      "cell_type": "code",
      "metadata": {
        "id": "EaOcIFzYDTFq",
        "colab_type": "code",
        "colab": {}
      },
      "source": [
        "from tensorflow.python.keras import Sequential\n",
        "from tensorflow.python.keras.layers import Input\n",
        "from tensorflow.python.keras.layers import Conv2D,MaxPooling2D,Dense,Flatten,Conv1D,MaxPooling1D\n",
        "from tensorflow.python.keras.layers import LeakyReLU\n",
        "from tensorflow.python.keras.optimizers import Adam\n",
        "from tensorflow.python.keras.losses import CategoricalCrossentropy\n",
        "from tensorflow.python.keras.models import Model\n",
        "from tensorflow.python.keras.callbacks import ModelCheckpoint, ReduceLROnPlateau"
      ],
      "execution_count": null,
      "outputs": []
    },
    {
      "cell_type": "code",
      "metadata": {
        "id": "jIzYU6S92KaJ",
        "colab_type": "code",
        "colab": {}
      },
      "source": [
        "extractor = Model(inputs=model.inputs,outputs=[layer.output for layer in model.layers])"
      ],
      "execution_count": null,
      "outputs": []
    },
    {
      "cell_type": "code",
      "metadata": {
        "id": "7SjQktgB8nvW",
        "colab_type": "code",
        "colab": {}
      },
      "source": [
        "probability_model = tf.keras.Sequential([model])\n",
        "predictions = probability_model.predict(data)"
      ],
      "execution_count": null,
      "outputs": []
    },
    {
      "cell_type": "code",
      "metadata": {
        "id": "RDtm3g6P9z25",
        "colab_type": "code",
        "colab": {
          "base_uri": "https://localhost:8080/",
          "height": 815
        },
        "outputId": "242045d4-ca5b-4fd3-bc9c-f4a85780d466"
      },
      "source": [
        "model.summary()"
      ],
      "execution_count": null,
      "outputs": [
        {
          "output_type": "stream",
          "text": [
            "Model: \"sequential\"\n",
            "_________________________________________________________________\n",
            "Layer (type)                 Output Shape              Param #   \n",
            "=================================================================\n",
            "conv2d (Conv2D)              (None, 1, 4097, 4)        28        \n",
            "_________________________________________________________________\n",
            "leaky_re_lu (LeakyReLU)      (None, 1, 4097, 4)        0         \n",
            "_________________________________________________________________\n",
            "max_pooling2d (MaxPooling2D) (None, 1, 2049, 4)        0         \n",
            "_________________________________________________________________\n",
            "conv2d_1 (Conv2D)            (None, 1, 2049, 4)        84        \n",
            "_________________________________________________________________\n",
            "leaky_re_lu_1 (LeakyReLU)    (None, 1, 2049, 4)        0         \n",
            "_________________________________________________________________\n",
            "max_pooling2d_1 (MaxPooling2 (None, 1, 1025, 4)        0         \n",
            "_________________________________________________________________\n",
            "conv2d_2 (Conv2D)            (None, 1, 1025, 10)       170       \n",
            "_________________________________________________________________\n",
            "leaky_re_lu_2 (LeakyReLU)    (None, 1, 1025, 10)       0         \n",
            "_________________________________________________________________\n",
            "max_pooling2d_2 (MaxPooling2 (None, 1, 513, 10)        0         \n",
            "_________________________________________________________________\n",
            "conv2d_3 (Conv2D)            (None, 1, 513, 10)        410       \n",
            "_________________________________________________________________\n",
            "leaky_re_lu_3 (LeakyReLU)    (None, 1, 513, 10)        0         \n",
            "_________________________________________________________________\n",
            "max_pooling2d_3 (MaxPooling2 (None, 1, 257, 10)        0         \n",
            "_________________________________________________________________\n",
            "conv2d_4 (Conv2D)            (None, 1, 257, 15)        615       \n",
            "_________________________________________________________________\n",
            "leaky_re_lu_4 (LeakyReLU)    (None, 1, 257, 15)        0         \n",
            "_________________________________________________________________\n",
            "max_pooling2d_4 (MaxPooling2 (None, 1, 129, 15)        0         \n",
            "_________________________________________________________________\n",
            "flatten (Flatten)            (None, 1935)              0         \n",
            "_________________________________________________________________\n",
            "dense (Dense)                (None, 50)                96800     \n",
            "_________________________________________________________________\n",
            "dense_1 (Dense)              (None, 20)                1020      \n",
            "_________________________________________________________________\n",
            "dense_2 (Dense)              (None, 3)                 63        \n",
            "=================================================================\n",
            "Total params: 99,190\n",
            "Trainable params: 99,190\n",
            "Non-trainable params: 0\n",
            "_________________________________________________________________\n"
          ],
          "name": "stdout"
        }
      ]
    },
    {
      "cell_type": "code",
      "metadata": {
        "id": "v8vgqiKb933F",
        "colab_type": "code",
        "colab": {}
      },
      "source": [
        "wb = model.get_weights()"
      ],
      "execution_count": null,
      "outputs": []
    },
    {
      "cell_type": "code",
      "metadata": {
        "id": "92kBAv4a_U2q",
        "colab_type": "code",
        "colab": {}
      },
      "source": [
        "weights = []\n",
        "biases = []\n",
        "for i in range(8):\n",
        "  weights.append(wb[2*i])\n",
        "  biases.append(wb[2*i+1])"
      ],
      "execution_count": null,
      "outputs": []
    },
    {
      "cell_type": "code",
      "metadata": {
        "id": "RFgQkYD03YFS",
        "colab_type": "code",
        "colab": {}
      },
      "source": [
        "def pos_con(x,gamma):\n",
        "  return(x+np.maximum(x,0)*gamma)"
      ],
      "execution_count": null,
      "outputs": []
    },
    {
      "cell_type": "code",
      "metadata": {
        "id": "K8c14MiHwwKl",
        "colab_type": "code",
        "colab": {
          "base_uri": "https://localhost:8080/",
          "height": 35
        },
        "outputId": "bf1ec2d0-84a3-46ae-ff52-bce5c464b85c"
      },
      "source": [
        "b=biases[4]\n",
        "np.repeat(np.repeat(b.reshape(1,1,1,b.shape[0]),300,axis=0),257,axis=2).shape"
      ],
      "execution_count": null,
      "outputs": [
        {
          "output_type": "execute_result",
          "data": {
            "text/plain": [
              "(300, 1, 257, 15)"
            ]
          },
          "metadata": {
            "tags": []
          },
          "execution_count": 10
        }
      ]
    },
    {
      "cell_type": "code",
      "metadata": {
        "id": "EMwx4RdYywlt",
        "colab_type": "code",
        "colab": {
          "base_uri": "https://localhost:8080/",
          "height": 35
        },
        "outputId": "bf501ad3-176d-4738-cfc5-0c4f43547451"
      },
      "source": [
        "weights[4].mean()"
      ],
      "execution_count": null,
      "outputs": [
        {
          "output_type": "execute_result",
          "data": {
            "text/plain": [
              "-0.0024010742"
            ]
          },
          "metadata": {
            "tags": []
          },
          "execution_count": 21
        }
      ]
    },
    {
      "cell_type": "code",
      "metadata": {
        "id": "lO9zAWyCJguK",
        "colab_type": "code",
        "colab": {
          "base_uri": "https://localhost:8080/",
          "height": 35
        },
        "outputId": "3a70e7aa-f07a-4c1c-ba92-1681f5adbb9a"
      },
      "source": [
        "def incr(x,y):\n",
        "  return(x+0.25*y.mean())\n",
        "gamma = 0.25\n",
        "A_all = []\n",
        "for i in range(len(extractor(data))):\n",
        "  A_all.append(extractor(data)[i].numpy())\n",
        "w = weights[7]\n",
        "w = np.array([pos_con(x,gamma) for x in w])\n",
        "b = biases[7]   \n",
        "R = [None]*18+[extractor(data)[18].numpy()-np.repeat(b.reshape(1,b.shape[0]),300,axis=0)] \n",
        "AR = np.multiply(A_all[18],R[18])\n",
        "wAR = AR.dot(np.transpose(w))\n",
        "wA = A_all[18].dot(np.transpose(w))\n",
        "###################################\n",
        "w = weights[6]\n",
        "w = np.array([pos_con(x,gamma) for x in w])\n",
        "b = biases[6]    \n",
        "R[17] = np.divide(wAR,wA)-np.repeat(b.reshape(1,b.shape[0]),300,axis=0)\n",
        "AR = np.multiply(A_all[17],R[17])\n",
        "wAR = AR.dot(np.transpose(w))\n",
        "wA = A_all[17].dot(np.transpose(w))\n",
        "###################################\n",
        "w = weights[5]\n",
        "w = np.array([pos_con(x,gamma) for x in w])\n",
        "b = biases[5] \n",
        "R[16] = np.divide(wAR,wA)-np.repeat(b.reshape(1,b.shape[0]),300,axis=0) \n",
        "AR = np.multiply(A_all[16],R[16])\n",
        "wAR = AR.dot(np.transpose(w))\n",
        "wA = A_all[16].dot(np.transpose(w))\n",
        "R[15] = np.divide(wAR,wA)\n",
        "R[14] = R[15].reshape([300,1,129,15])\n",
        "###################################\n",
        "R[13] = np.repeat(R[14],2,axis=2)[:,:,0:257,:]\n",
        "w = np.swapaxes(weights[4],2,3)\n",
        "w = np.array([pos_con(x,gamma) for x in w])\n",
        "b = biases[4] \n",
        "R[12] = R[13]-np.repeat(np.repeat(b.reshape(1,1,1,b.shape[0]),300,axis=0),257,axis=2)\n",
        "A = np.flip(A_all[12],axis=2)\n",
        "AR = np.flip(np.multiply(A_all[12],R[12]),axis=2)\n",
        "conv_lrp = Sequential()\n",
        "conv_lrp.add(Conv2D(10,(4,1),padding=\"same\",strides=1,use_bias=False,input_shape=(1,257,15)))\n",
        "conv_lrp.layers[0].set_weights([w])\n",
        "wAR = np.flip(conv_lrp.predict(AR),axis=2)\n",
        "wA = np.flip(conv_lrp.predict(A),axis=2)\n",
        "wA = np.array([incr(x,wA) for x in wA])\n",
        "R[11] = np.divide(wAR,wA)\n",
        "###################################\n",
        "R[10] = np.repeat(R[11],2,axis=2)[:,:,0:513,:]\n",
        "w = np.swapaxes(weights[3],2,3)\n",
        "w = np.array([pos_con(x,gamma) for x in w])\n",
        "b = biases[3] \n",
        "R[9] = R[10]-np.repeat(np.repeat(b.reshape(1,1,1,b.shape[0]),300,axis=0),513,axis=2)\n",
        "A = np.flip(A_all[9],axis=2)\n",
        "AR = np.flip(np.multiply(A_all[9],R[9]),axis=2)\n",
        "conv_lrp = Sequential()\n",
        "conv_lrp.add(Conv2D(10,(4,1),padding=\"same\",strides=1,use_bias=False,input_shape=(1,513,10)))\n",
        "conv_lrp.layers[0].set_weights([w])\n",
        "wAR = np.flip(conv_lrp.predict(AR),axis=2)\n",
        "wA = np.flip(conv_lrp.predict(A),axis=2)\n",
        "wA = np.array([incr(x,wA) for x in wA])\n",
        "R[8] = np.divide(wAR,wA)\n",
        "###################################\n",
        "R[7] = np.repeat(R[8],2,axis=2)[:,:,0:1025,:]\n",
        "w = np.swapaxes(weights[2],2,3)\n",
        "w = np.array([pos_con(x,gamma) for x in w])\n",
        "b = biases[2] \n",
        "R[6] = R[7]-np.repeat(np.repeat(b.reshape(1,1,1,b.shape[0]),300,axis=0),1025,axis=2)\n",
        "A = np.flip(A_all[6],axis=2)\n",
        "AR = np.flip(np.multiply(A_all[6],R[6]),axis=2)\n",
        "conv_lrp = Sequential()\n",
        "conv_lrp.add(Conv2D(4,(4,1),padding=\"same\",strides=1,use_bias=False,input_shape=(1,1025,10)))\n",
        "conv_lrp.layers[0].set_weights([w])\n",
        "wAR = np.flip(conv_lrp.predict(AR),axis=2)\n",
        "wA = np.flip(conv_lrp.predict(A),axis=2)\n",
        "wA = np.array([incr(x,wA) for x in wA])\n",
        "R[5] = np.divide(wAR,wA)\n",
        "###################################\n",
        "R[4] = np.repeat(R[5],2,axis=2)[:,:,0:2049,:]\n",
        "w = np.swapaxes(weights[1],2,3)\n",
        "w = np.array([pos_con(x,gamma) for x in w])\n",
        "b = biases[1] \n",
        "R[3] = R[4]-np.repeat(np.repeat(b.reshape(1,1,1,b.shape[0]),300,axis=0),2049,axis=2)\n",
        "A = np.flip(A_all[3],axis=2)\n",
        "AR = np.flip(np.multiply(A_all[3],R[3]),axis=2)\n",
        "conv_lrp = Sequential()\n",
        "conv_lrp.add(Conv2D(4,(5,1),padding=\"same\",strides=1,use_bias=False,input_shape=(1,2049,4)))\n",
        "conv_lrp.layers[0].set_weights([w])\n",
        "wAR = np.flip(conv_lrp.predict(AR),axis=2)\n",
        "wA = np.flip(conv_lrp.predict(A),axis=2)\n",
        "wA = np.array([incr(x,wA) for x in wA])\n",
        "R[2] = np.divide(wAR,wA)\n",
        "###################################\n",
        "R[1] = np.repeat(R[2],2,axis=2)[:,:,0:4097,:]\n",
        "w = np.swapaxes(weights[0],2,3)\n",
        "w = np.array([pos_con(x,gamma) for x in w])\n",
        "w = np.array([x**2 for x in w])\n",
        "b = biases[0]\n",
        "R[0] = R[1]-np.repeat(np.repeat(b.reshape(1,1,1,b.shape[0]),300,axis=0),4097,axis=2)\n",
        "conv_lrp = Sequential()\n",
        "conv_lrp.add(Conv2D(1,(6,1),padding=\"same\",strides=1,use_bias=False,input_shape=(1,4097,4)))\n",
        "conv_lrp.layers[0].set_weights([w])\n",
        "Rwsq = np.flip(conv_lrp.predict(np.flip(R[0],axis=2)),axis=2)\n",
        "wsq = np.flip(conv_lrp.predict(np.ones(R[0].shape)),axis=2)\n",
        "LRP = np.divide(Rwsq,wsq)"
      ],
      "execution_count": null,
      "outputs": [
        {
          "output_type": "stream",
          "text": [
            "/usr/local/lib/python3.6/dist-packages/ipykernel_launcher.py:61: RuntimeWarning: divide by zero encountered in true_divide\n"
          ],
          "name": "stderr"
        }
      ]
    },
    {
      "cell_type": "code",
      "metadata": {
        "id": "FiaOyMSJlmV_",
        "colab_type": "code",
        "colab": {
          "base_uri": "https://localhost:8080/",
          "height": 283
        },
        "outputId": "92b1bf43-598c-4cc0-d2d1-9837da32c590"
      },
      "source": [
        "plt.subplot(6,1,1)\n",
        "plt.plot(LRP.reshape([300,4097,1])[10,1000:1600])\n",
        "plt.show\n",
        "plt.subplot(6,1,2)\n",
        "plt.plot(data.reshape([300,4097,1])[10,1000:1600])\n",
        "plt.show\n",
        "plt.subplot(6,1,3)\n",
        "plt.plot(LRP.reshape([300,4097,1])[150])\n",
        "plt.subplot(6,1,4)\n",
        "plt.plot(data.reshape([300,4097,1])[150])\n",
        "plt.subplot(6,1,5)\n",
        "plt.plot(LRP.reshape([300,4097,1])[200,3500:4000])\n",
        "plt.subplot(6,1,6)\n",
        "plt.plot(data.reshape([300,4097,1])[200,3500:4000])\n",
        "plt.show"
      ],
      "execution_count": null,
      "outputs": [
        {
          "output_type": "execute_result",
          "data": {
            "text/plain": [
              "<function matplotlib.pyplot.show>"
            ]
          },
          "metadata": {
            "tags": []
          },
          "execution_count": 34
        },
        {
          "output_type": "display_data",
          "data": {
            "image/png": "[encoded data removed]",
            "text/plain": [
              "<Figure size 432x288 with 6 Axes>"
            ]
          },
          "metadata": {
            "tags": [],
            "needs_background": "light"
          }
        }
      ]
    },
    {
      "cell_type": "code",
      "metadata": {
        "id": "IEnlmX43YkM8",
        "colab_type": "code",
        "colab": {
          "base_uri": "https://localhost:8080/",
          "height": 34
        },
        "outputId": "e6fa49a4-ae61-4295-be7e-55c8c8692bb6"
      },
      "source": [
        "weights[4].shape"
      ],
      "execution_count": null,
      "outputs": [
        {
          "output_type": "execute_result",
          "data": {
            "text/plain": [
              "(4, 1, 10, 15)"
            ]
          },
          "metadata": {
            "tags": []
          },
          "execution_count": 9
        }
      ]
    }
  ]
}